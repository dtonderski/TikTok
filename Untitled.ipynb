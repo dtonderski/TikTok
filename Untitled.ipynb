{
 "cells": [
  {
   "cell_type": "code",
   "execution_count": 1,
   "id": "928c1293-b347-4333-921f-13ae6f183461",
   "metadata": {},
   "outputs": [],
   "source": [
    "import logging\n",
    "import random\n",
    "\n",
    "from selenium import webdriver\n",
    "from selenium.common.exceptions import TimeoutException, WebDriverException\n",
    "from selenium.webdriver.chrome.options import Options\n",
    "from selenium.webdriver.common.by import By\n",
    "from selenium.webdriver.support.ui import WebDriverWait\n",
    "from selenium.webdriver.support import expected_conditions as ec\n",
    "from selenium.webdriver.common.proxy import Proxy, ProxyType\n",
    "from selenium.webdriver.common.keys import Keys\n",
    "from selenium.webdriver.common.action_chains import ActionChains\n",
    "\n",
    "from random_user_agent.user_agent import UserAgent\n",
    "from random_user_agent.params import SoftwareName, OperatingSystem\n",
    "import pathlib\n",
    "\n",
    "from time import sleep"
   ]
  },
  {
   "cell_type": "code",
   "execution_count": 2,
   "id": "53d6ec4f-3bdc-45ba-8b58-402199b54d2e",
   "metadata": {},
   "outputs": [
    {
     "name": "stdout",
     "output_type": "stream",
     "text": [
      "Mozilla/5.0 (Windows NT 8.0; WOW64) AppleWebKit/536.24 (KHTML, like Gecko) Chrome/32.0.2019.89 Safari/536.24\n"
     ]
    }
   ],
   "source": [
    "options = Options()\n",
    "options.add_argument(\"window-size=1400,600\")\n",
    "software_names = [SoftwareName.CHROME.value]\n",
    "operating_systems = [OperatingSystem.WINDOWS.value,\n",
    "                     OperatingSystem.LINUX.value]\n",
    "user_agent_rotator = UserAgent(software_names=software_names,\n",
    "                               operating_systems=operating_systems,\n",
    "                               limit=100)\n",
    "user_agent = user_agent_rotator.get_random_user_agent()\n",
    "print(user_agent)\n",
    "options.add_experimental_option(\"excludeSwitches\", [\"enable-automation\"])\n",
    "options.add_experimental_option('useAutomationExtension', False)\n",
    "scriptDirectory = pathlib.Path().absolute()\n",
    "options.add_argument(f\"user-data-dir={scriptDirectory}\\\\userdata\")\n",
    "options.add_argument(f'user-agent={user_agent}')\n",
    "\n",
    "driver = webdriver.Chrome(options=options)\n",
    "driver.get('https://tiktok.com/')"
   ]
  },
  {
   "cell_type": "code",
   "execution_count": 8,
   "outputs": [],
   "source": [
    "comment_pool = [\"😍😍😍\"]"
   ],
   "metadata": {
    "collapsed": false,
    "pycharm": {
     "name": "#%%\n"
    }
   }
  },
  {
   "cell_type": "code",
   "execution_count": 11,
   "outputs": [
    {
     "ename": "KeyboardInterrupt",
     "evalue": "",
     "output_type": "error",
     "traceback": [
      "\u001B[1;31m---------------------------------------------------------------------------\u001B[0m",
      "\u001B[1;31mKeyboardInterrupt\u001B[0m                         Traceback (most recent call last)",
      "Input \u001B[1;32mIn [11]\u001B[0m, in \u001B[0;36m<module>\u001B[1;34m\u001B[0m\n\u001B[0;32m     37\u001B[0m actions\u001B[38;5;241m.\u001B[39msend_keys(Keys\u001B[38;5;241m.\u001B[39mARROW_DOWN)\n\u001B[0;32m     38\u001B[0m actions\u001B[38;5;241m.\u001B[39mperform()\n\u001B[1;32m---> 39\u001B[0m \u001B[43msleep\u001B[49m\u001B[43m(\u001B[49m\u001B[43mrandom\u001B[49m\u001B[38;5;241;43m.\u001B[39;49m\u001B[43muniform\u001B[49m\u001B[43m(\u001B[49m\u001B[38;5;241;43m1\u001B[39;49m\u001B[43m,\u001B[49m\u001B[38;5;241;43m2\u001B[39;49m\u001B[43m)\u001B[49m\u001B[43m)\u001B[49m\n\u001B[0;32m     41\u001B[0m \u001B[38;5;66;03m# Pause video\u001B[39;00m\n\u001B[0;32m     42\u001B[0m xpath \u001B[38;5;241m=\u001B[39m \u001B[38;5;124m'\u001B[39m\u001B[38;5;124m//*[@id=\u001B[39m\u001B[38;5;124m\"\u001B[39m\u001B[38;5;124mapp\u001B[39m\u001B[38;5;124m\"\u001B[39m\u001B[38;5;124m]/div[2]\u001B[39m\u001B[38;5;124m'\u001B[39m\n",
      "\u001B[1;31mKeyboardInterrupt\u001B[0m: "
     ]
    }
   ],
   "source": [
    "from selenium.common.exceptions import NoSuchElementException\n",
    "\n",
    "\n",
    "def get_id_from_url(url):\n",
    "    return url.split('item_id=')[1].split('#')[0]\n",
    "i = 0\n",
    "list_of_commented_ids = set()\n",
    "while True:\n",
    "    if driver.current_url not in list_of_commented_ids:\n",
    "        i+=1\n",
    "        list_of_commented_ids.add(driver.current_url)\n",
    "        # Click on comment\n",
    "        try:\n",
    "            xpath = '//*[@id=\"app\"]/div[2]/div[3]/div[2]/div[4]/div/div[1]/div/div[1]/div/div/div[2]/div'\n",
    "            element = driver.find_element(By.XPATH, xpath)\n",
    "            element.click()\n",
    "            #sleep(random.uniform(0, 1))\n",
    "\n",
    "            # Write and submit comment\n",
    "            text = random.choice(comment_pool)\n",
    "            driver.execute_script(\"arguments[0].innerHTML = '{}'\".format(text),element)\n",
    "            element.send_keys('.')\n",
    "            element.send_keys(Keys.BACKSPACE)\n",
    "            element.send_keys(Keys.RETURN)\n",
    "            sleep(random.uniform(1,2))\n",
    "        except NoSuchElementException:\n",
    "            pass\n",
    "\n",
    "\n",
    "    # Click elsewhere\n",
    "    xpath = '//*[@id=\"app\"]/div[2]/div[3]/div[2]'\n",
    "    element = driver.find_element(By.XPATH, xpath)\n",
    "    element.click()\n",
    "\n",
    "    # Go to next video\n",
    "    actions = ActionChains(driver)\n",
    "    actions.send_keys(Keys.ARROW_DOWN)\n",
    "    actions.perform()\n",
    "    sleep(random.uniform(1,2))\n",
    "\n",
    "    # Pause video\n",
    "    xpath = '//*[@id=\"app\"]/div[2]'\n",
    "    element = driver.find_element(By.XPATH, xpath)\n",
    "    element.click()"
   ],
   "metadata": {
    "collapsed": false,
    "pycharm": {
     "name": "#%%\n"
    }
   }
  },
  {
   "cell_type": "code",
   "execution_count": 12,
   "outputs": [
    {
     "data": {
      "text/plain": "3"
     },
     "execution_count": 12,
     "metadata": {},
     "output_type": "execute_result"
    }
   ],
   "source": [
    "i"
   ],
   "metadata": {
    "collapsed": false,
    "pycharm": {
     "name": "#%%\n"
    }
   }
  },
  {
   "cell_type": "markdown",
   "source": [],
   "metadata": {
    "collapsed": false,
    "pycharm": {
     "name": "#%% md\n"
    }
   }
  },
  {
   "cell_type": "markdown",
   "source": [],
   "metadata": {
    "collapsed": false,
    "pycharm": {
     "name": "#%% md\n"
    }
   }
  }
 ],
 "metadata": {
  "kernelspec": {
   "display_name": "Python 3 (ipykernel)",
   "language": "python",
   "name": "python3"
  },
  "language_info": {
   "codemirror_mode": {
    "name": "ipython",
    "version": 3
   },
   "file_extension": ".py",
   "mimetype": "text/x-python",
   "name": "python",
   "nbconvert_exporter": "python",
   "pygments_lexer": "ipython3",
   "version": "3.9.9"
  }
 },
 "nbformat": 4,
 "nbformat_minor": 5
}